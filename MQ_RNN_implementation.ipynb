{
  "nbformat": 4,
  "nbformat_minor": 0,
  "metadata": {
    "colab": {
      "name": "MQ-RNN implementation.ipynb",
      "provenance": [],
      "collapsed_sections": [],
      "toc_visible": true
    },
    "kernelspec": {
      "name": "python3",
      "display_name": "Python 3"
    }
  },
  "cells": [
    {
      "cell_type": "markdown",
      "metadata": {
        "id": "67DDvUJg_wwK"
      },
      "source": [
        "## Imports\n",
        "\n"
      ]
    },
    {
      "cell_type": "code",
      "metadata": {
        "colab": {
          "base_uri": "https://localhost:8080/"
        },
        "id": "d9H2ycz9AUH7",
        "outputId": "73ed8103-1198-408a-9633-cb11c0e57bf8"
      },
      "source": [
        "!pip install pytorch_lightning"
      ],
      "execution_count": null,
      "outputs": [
        {
          "output_type": "stream",
          "text": [
            "Collecting pytorch_lightning\n",
            "\u001b[?25l  Downloading https://files.pythonhosted.org/packages/55/8f/d3379dd306635467637c5516b3a1656a5f651dbf2abe3fd0a7636c18ed3c/pytorch_lightning-1.2.1-py3-none-any.whl (814kB)\n",
            "\u001b[K     |████████████████████████████████| 819kB 9.5MB/s \n",
            "\u001b[?25hCollecting future>=0.17.1\n",
            "\u001b[?25l  Downloading https://files.pythonhosted.org/packages/45/0b/38b06fd9b92dc2b68d58b75f900e97884c45bedd2ff83203d933cf5851c9/future-0.18.2.tar.gz (829kB)\n",
            "\u001b[K     |████████████████████████████████| 829kB 18.2MB/s \n",
            "\u001b[?25hRequirement already satisfied: tqdm>=4.41.0 in /usr/local/lib/python3.7/dist-packages (from pytorch_lightning) (4.41.1)\n",
            "Requirement already satisfied: tensorboard>=2.2.0 in /usr/local/lib/python3.7/dist-packages (from pytorch_lightning) (2.4.1)\n",
            "Collecting PyYAML!=5.4.*,>=5.1\n",
            "\u001b[?25l  Downloading https://files.pythonhosted.org/packages/64/c2/b80047c7ac2478f9501676c988a5411ed5572f35d1beff9cae07d321512c/PyYAML-5.3.1.tar.gz (269kB)\n",
            "\u001b[K     |████████████████████████████████| 276kB 38.3MB/s \n",
            "\u001b[?25hRequirement already satisfied: torch>=1.4 in /usr/local/lib/python3.7/dist-packages (from pytorch_lightning) (1.7.1+cu101)\n",
            "Collecting fsspec[http]>=0.8.1\n",
            "\u001b[?25l  Downloading https://files.pythonhosted.org/packages/91/0d/a6bfee0ddf47b254286b9bd574e6f50978c69897647ae15b14230711806e/fsspec-0.8.7-py3-none-any.whl (103kB)\n",
            "\u001b[K     |████████████████████████████████| 112kB 40.3MB/s \n",
            "\u001b[?25hRequirement already satisfied: numpy>=1.16.6 in /usr/local/lib/python3.7/dist-packages (from pytorch_lightning) (1.19.5)\n",
            "Requirement already satisfied: werkzeug>=0.11.15 in /usr/local/lib/python3.7/dist-packages (from tensorboard>=2.2.0->pytorch_lightning) (1.0.1)\n",
            "Requirement already satisfied: protobuf>=3.6.0 in /usr/local/lib/python3.7/dist-packages (from tensorboard>=2.2.0->pytorch_lightning) (3.12.4)\n",
            "Requirement already satisfied: google-auth-oauthlib<0.5,>=0.4.1 in /usr/local/lib/python3.7/dist-packages (from tensorboard>=2.2.0->pytorch_lightning) (0.4.2)\n",
            "Requirement already satisfied: absl-py>=0.4 in /usr/local/lib/python3.7/dist-packages (from tensorboard>=2.2.0->pytorch_lightning) (0.10.0)\n",
            "Requirement already satisfied: grpcio>=1.24.3 in /usr/local/lib/python3.7/dist-packages (from tensorboard>=2.2.0->pytorch_lightning) (1.32.0)\n",
            "Requirement already satisfied: tensorboard-plugin-wit>=1.6.0 in /usr/local/lib/python3.7/dist-packages (from tensorboard>=2.2.0->pytorch_lightning) (1.8.0)\n",
            "Requirement already satisfied: setuptools>=41.0.0 in /usr/local/lib/python3.7/dist-packages (from tensorboard>=2.2.0->pytorch_lightning) (54.0.0)\n",
            "Requirement already satisfied: wheel>=0.26; python_version >= \"3\" in /usr/local/lib/python3.7/dist-packages (from tensorboard>=2.2.0->pytorch_lightning) (0.36.2)\n",
            "Requirement already satisfied: requests<3,>=2.21.0 in /usr/local/lib/python3.7/dist-packages (from tensorboard>=2.2.0->pytorch_lightning) (2.23.0)\n",
            "Requirement already satisfied: google-auth<2,>=1.6.3 in /usr/local/lib/python3.7/dist-packages (from tensorboard>=2.2.0->pytorch_lightning) (1.27.0)\n",
            "Requirement already satisfied: markdown>=2.6.8 in /usr/local/lib/python3.7/dist-packages (from tensorboard>=2.2.0->pytorch_lightning) (3.3.4)\n",
            "Requirement already satisfied: six>=1.10.0 in /usr/local/lib/python3.7/dist-packages (from tensorboard>=2.2.0->pytorch_lightning) (1.15.0)\n",
            "Requirement already satisfied: typing-extensions in /usr/local/lib/python3.7/dist-packages (from torch>=1.4->pytorch_lightning) (3.7.4.3)\n",
            "Requirement already satisfied: importlib-metadata; python_version < \"3.8\" in /usr/local/lib/python3.7/dist-packages (from fsspec[http]>=0.8.1->pytorch_lightning) (3.7.0)\n",
            "Collecting aiohttp; extra == \"http\"\n",
            "\u001b[?25l  Downloading https://files.pythonhosted.org/packages/5b/a6/d36302eba284f4f427dc288f6b3ecd7f89d739cfca206b80311d3158f6d9/aiohttp-3.7.4-cp37-cp37m-manylinux2014_x86_64.whl (1.3MB)\n",
            "\u001b[K     |████████████████████████████████| 1.3MB 34.3MB/s \n",
            "\u001b[?25hRequirement already satisfied: requests-oauthlib>=0.7.0 in /usr/local/lib/python3.7/dist-packages (from google-auth-oauthlib<0.5,>=0.4.1->tensorboard>=2.2.0->pytorch_lightning) (1.3.0)\n",
            "Requirement already satisfied: idna<3,>=2.5 in /usr/local/lib/python3.7/dist-packages (from requests<3,>=2.21.0->tensorboard>=2.2.0->pytorch_lightning) (2.10)\n",
            "Requirement already satisfied: certifi>=2017.4.17 in /usr/local/lib/python3.7/dist-packages (from requests<3,>=2.21.0->tensorboard>=2.2.0->pytorch_lightning) (2020.12.5)\n",
            "Requirement already satisfied: urllib3!=1.25.0,!=1.25.1,<1.26,>=1.21.1 in /usr/local/lib/python3.7/dist-packages (from requests<3,>=2.21.0->tensorboard>=2.2.0->pytorch_lightning) (1.24.3)\n",
            "Requirement already satisfied: chardet<4,>=3.0.2 in /usr/local/lib/python3.7/dist-packages (from requests<3,>=2.21.0->tensorboard>=2.2.0->pytorch_lightning) (3.0.4)\n",
            "Requirement already satisfied: pyasn1-modules>=0.2.1 in /usr/local/lib/python3.7/dist-packages (from google-auth<2,>=1.6.3->tensorboard>=2.2.0->pytorch_lightning) (0.2.8)\n",
            "Requirement already satisfied: cachetools<5.0,>=2.0.0 in /usr/local/lib/python3.7/dist-packages (from google-auth<2,>=1.6.3->tensorboard>=2.2.0->pytorch_lightning) (4.2.1)\n",
            "Requirement already satisfied: rsa<5,>=3.1.4; python_version >= \"3.6\" in /usr/local/lib/python3.7/dist-packages (from google-auth<2,>=1.6.3->tensorboard>=2.2.0->pytorch_lightning) (4.7.2)\n",
            "Requirement already satisfied: zipp>=0.5 in /usr/local/lib/python3.7/dist-packages (from importlib-metadata; python_version < \"3.8\"->fsspec[http]>=0.8.1->pytorch_lightning) (3.4.0)\n",
            "Collecting async-timeout<4.0,>=3.0\n",
            "  Downloading https://files.pythonhosted.org/packages/e1/1e/5a4441be21b0726c4464f3f23c8b19628372f606755a9d2e46c187e65ec4/async_timeout-3.0.1-py3-none-any.whl\n",
            "Collecting yarl<2.0,>=1.0\n",
            "\u001b[?25l  Downloading https://files.pythonhosted.org/packages/f1/62/046834c5fc998c88ab2ef722f5d42122230a632212c8afa76418324f53ff/yarl-1.6.3-cp37-cp37m-manylinux2014_x86_64.whl (294kB)\n",
            "\u001b[K     |████████████████████████████████| 296kB 28.2MB/s \n",
            "\u001b[?25hRequirement already satisfied: attrs>=17.3.0 in /usr/local/lib/python3.7/dist-packages (from aiohttp; extra == \"http\"->fsspec[http]>=0.8.1->pytorch_lightning) (20.3.0)\n",
            "Collecting multidict<7.0,>=4.5\n",
            "\u001b[?25l  Downloading https://files.pythonhosted.org/packages/7c/a6/4123b8165acbe773d1a8dc8e3f0d1edea16d29f7de018eda769abb56bd30/multidict-5.1.0-cp37-cp37m-manylinux2014_x86_64.whl (142kB)\n",
            "\u001b[K     |████████████████████████████████| 143kB 41.4MB/s \n",
            "\u001b[?25hRequirement already satisfied: oauthlib>=3.0.0 in /usr/local/lib/python3.7/dist-packages (from requests-oauthlib>=0.7.0->google-auth-oauthlib<0.5,>=0.4.1->tensorboard>=2.2.0->pytorch_lightning) (3.1.0)\n",
            "Requirement already satisfied: pyasn1<0.5.0,>=0.4.6 in /usr/local/lib/python3.7/dist-packages (from pyasn1-modules>=0.2.1->google-auth<2,>=1.6.3->tensorboard>=2.2.0->pytorch_lightning) (0.4.8)\n",
            "Building wheels for collected packages: future, PyYAML\n",
            "  Building wheel for future (setup.py) ... \u001b[?25l\u001b[?25hdone\n",
            "  Created wheel for future: filename=future-0.18.2-cp37-none-any.whl size=491058 sha256=0349ac2cc0ea2be22a647f966b38b8146ab2ba816cbffc7fd4888cd4de79ca9e\n",
            "  Stored in directory: /root/.cache/pip/wheels/8b/99/a0/81daf51dcd359a9377b110a8a886b3895921802d2fc1b2397e\n",
            "  Building wheel for PyYAML (setup.py) ... \u001b[?25l\u001b[?25hdone\n",
            "  Created wheel for PyYAML: filename=PyYAML-5.3.1-cp37-cp37m-linux_x86_64.whl size=44620 sha256=74c72dfeee1b0bc2439f270e48d2c04df073d1c8e9e2cb30ab6b0389bba1ccd8\n",
            "  Stored in directory: /root/.cache/pip/wheels/a7/c1/ea/cf5bd31012e735dc1dfea3131a2d5eae7978b251083d6247bd\n",
            "Successfully built future PyYAML\n",
            "Installing collected packages: future, PyYAML, async-timeout, multidict, yarl, aiohttp, fsspec, pytorch-lightning\n",
            "  Found existing installation: future 0.16.0\n",
            "    Uninstalling future-0.16.0:\n",
            "      Successfully uninstalled future-0.16.0\n",
            "  Found existing installation: PyYAML 3.13\n",
            "    Uninstalling PyYAML-3.13:\n",
            "      Successfully uninstalled PyYAML-3.13\n",
            "Successfully installed PyYAML-5.3.1 aiohttp-3.7.4 async-timeout-3.0.1 fsspec-0.8.7 future-0.18.2 multidict-5.1.0 pytorch-lightning-1.2.1 yarl-1.6.3\n"
          ],
          "name": "stdout"
        }
      ]
    },
    {
      "cell_type": "code",
      "metadata": {
        "id": "XKsH-T1N-_Au"
      },
      "source": [
        "# General imports\n",
        "import numpy as np\n",
        "import pandas as pd\n",
        "import pprint\n",
        "import matplotlib.pyplot as plt\n",
        "import torch\n",
        "from torch import nn\n",
        "from torch.utils.data import Dataset, DataLoader\n",
        "import pytorch_lightning as pl\n"
      ],
      "execution_count": null,
      "outputs": []
    },
    {
      "cell_type": "markdown",
      "metadata": {
        "id": "Nft324vH_5a1"
      },
      "source": [
        "## Preparing data"
      ]
    },
    {
      "cell_type": "markdown",
      "metadata": {
        "id": "0DlMfiifAfIb"
      },
      "source": [
        "### Read and reshape data\n",
        "\n",
        "\n"
      ]
    },
    {
      "cell_type": "code",
      "metadata": {
        "id": "CVxDIfm5_Hvu"
      },
      "source": [
        "def __prepare_data(data_path):\n",
        "    # Load parquet dataframe\n",
        "    eldata = pd.read_parquet(data_path)\n",
        "    n_rows_before_resampling = eldata.shape[0]\n",
        "\n",
        "    # Resample from 15-min to 1-hr frequency\n",
        "    eldata = eldata.resample(\"1H\", on=\"timestamp\").mean()  # Resample data on an hourly frequency\n",
        "    n_rows_after_resampling = eldata.shape[0]\n",
        "\n",
        "    # Verify that resampling was done correctly\n",
        "    assert (n_rows_before_resampling / 4) == (n_rows_after_resampling - 1)\n",
        "\n",
        "    return eldata"
      ],
      "execution_count": null,
      "outputs": []
    },
    {
      "cell_type": "markdown",
      "metadata": {
        "id": "Ew3JORt6AjEj"
      },
      "source": [
        "### Define Encoder and Decoders for MQRNN\n"
      ]
    },
    {
      "cell_type": "code",
      "metadata": {
        "id": "_agEn81iAOkY"
      },
      "source": [
        "class Encoder(pl.LightningModule):\n",
        "    \"\"\"Encoder network for encoder-decoder forecast model.\"\"\"\n",
        "\n",
        "    def __init__(self, hist_len=168, fct_len=24, input_size=4, num_layers=1, hidden_units=8, lr=1e-3):\n",
        "        super().__init__()\n",
        "\n",
        "        self.hist_len = hist_len\n",
        "        self.fct_len = fct_len\n",
        "        self.input_size = input_size\n",
        "        self.num_layers = num_layers\n",
        "        self.hidden_units = hidden_units\n",
        "        self.lr = lr\n",
        "\n",
        "        self.lstm = nn.LSTM(input_size=self.input_size,\n",
        "                            hidden_size=self.hidden_units,\n",
        "                            num_layers=self.num_layers,\n",
        "                            batch_first=True)\n",
        "\n",
        "    def forward(self, x, hidden=None):\n",
        "        output, (hh, cc) = self.lstm(x)\n",
        "        return hh\n",
        "\n",
        "\n",
        "\n"
      ],
      "execution_count": null,
      "outputs": []
    },
    {
      "cell_type": "code",
      "metadata": {
        "id": "oxp_1TIgApjH"
      },
      "source": [
        "class GlobalDecoder(nn.Module):\n",
        "    \"\"\"\n",
        "    Global decoder that receives the encoder's hidden state\n",
        "    plus the covariates and returns both horizon-specific &\n",
        "    -agnostic contexts (to be used in the local decoder)\n",
        "    input_size = hidden_size + covariate_size * horizon_size\n",
        "    output_size: (horizon_size+1) * context_size\n",
        "    \"\"\"\n",
        "\n",
        "    def __init__(self,\n",
        "                 hidden_size: int,\n",
        "                 covariate_size: int,\n",
        "                 horizon_size: int,\n",
        "                 context_size: int):\n",
        "        super(GlobalDecoder, self).__init__()\n",
        "        self.hidden_size = hidden_size\n",
        "        self.covariate_size = covariate_size\n",
        "        self.horizon_size = horizon_size\n",
        "        self.context_size = context_size\n",
        "\n",
        "        self.linear1 = nn.Linear(in_features=hidden_size + covariate_size * horizon_size,\n",
        "                                 out_features=horizon_size * hidden_size * 3)\n",
        "\n",
        "        self.linear2 = nn.Linear(in_features=horizon_size * hidden_size * 3,\n",
        "                                 out_features=horizon_size * hidden_size * 2)\n",
        "\n",
        "        self.linear3 = nn.Linear(in_features=horizon_size * hidden_size * 2,\n",
        "                                 out_features=(horizon_size + 1) * context_size)\n",
        "\n",
        "        self.activation = nn.ReLU()\n",
        "\n",
        "    def forward(self, input):\n",
        "        layer1_output = self.linear1(input)\n",
        "        layer1_output = self.activation(layer1_output)\n",
        "\n",
        "        layer2_output = self.linear2(layer1_output)\n",
        "        layer2_output = self.activation(layer2_output)\n",
        "\n",
        "        layer3_output = self.linear3(layer2_output)\n",
        "        layer3_output = self.activation(layer3_output)\n",
        "        return layer3_output\n",
        "\n"
      ],
      "execution_count": null,
      "outputs": []
    },
    {
      "cell_type": "code",
      "metadata": {
        "id": "yaoexMC6Arb8"
      },
      "source": [
        "class LocalDecoder(nn.Module):\n",
        "    \"\"\"\n",
        "    Local decoder that receives the Global decoder's contexts\n",
        "    (both horizon-specific & -agnostic) plus future covariates\n",
        "    and forecasts the required quantiles over all horizons\n",
        "    input_size: (horizon_size+1)*context_size + horizon_size*covariate_size\n",
        "    output_size: horizon_size * quantile_size\n",
        "    \"\"\"\n",
        "\n",
        "    def __init__(self,\n",
        "                 covariate_size,\n",
        "                 quantile_size,\n",
        "                 context_size,\n",
        "                 quantiles,\n",
        "                 horizon_size):\n",
        "        super(LocalDecoder, self).__init__()\n",
        "        self.covariate_size = covariate_size\n",
        "        self.quantiles = quantiles\n",
        "        self.quantile_size = quantile_size\n",
        "        self.horizon_size = horizon_size\n",
        "        self.context_size = context_size\n",
        "\n",
        "        self.linear1 = nn.Linear(in_features=horizon_size * context_size + horizon_size * covariate_size + context_size,\n",
        "                                 out_features=horizon_size * context_size)\n",
        "        self.linear2 = nn.Linear(in_features=horizon_size * context_size,\n",
        "                                 out_features=horizon_size * quantile_size)\n",
        "        self.activation = nn.ReLU()\n",
        "\n",
        "    def forward(self, input):\n",
        "        layer1_output = self.linear1(input)\n",
        "        layer1_output = self.activation(layer1_output)\n",
        "\n",
        "        layer2_output = self.linear2(layer1_output)\n",
        "        layer2_output = self.activation(layer2_output)\n",
        "        return layer2_output\n"
      ],
      "execution_count": null,
      "outputs": []
    },
    {
      "cell_type": "markdown",
      "metadata": {
        "id": "4wjpbIgjAu0I"
      },
      "source": [
        "### Define MQRNN PyTorch Dataset"
      ]
    },
    {
      "cell_type": "code",
      "metadata": {
        "id": "moIWjWP-_Y5S"
      },
      "source": [
        "import random\n",
        "random.seed(7)\n",
        "class MQRNN_dataset(Dataset):\n",
        "    def __init__(self,\n",
        "                 target_dataframe,\n",
        "                 horizon_size,\n",
        "                 covariate_size,\n",
        "                 batch_size,\n",
        "                 train_frac=0.9,\n",
        "                 std_epsilon=0.01):\n",
        "        self.std_epsilon = std_epsilon\n",
        "        self.target_dataframe = target_dataframe\n",
        "        self.horizon_size = horizon_size\n",
        "        self.covariate_size = covariate_size\n",
        "        self.batch_size = batch_size\n",
        "\n",
        "        assert 0 <= train_frac <= 1\n",
        "        # Clean data from all-zeros\n",
        "        zeros_df = ((self.target_dataframe != 0).sum() == 0)\n",
        "        self.target_dataframe.drop(list(zeros_df[zeros_df].index), axis=1, inplace=True)\n",
        "\n",
        "        # Normalize data-frame using Z-score\n",
        "        self.target_dataframe = ((self.target_dataframe / self.target_dataframe[self.target_dataframe != 0].mean()) - 1)\n",
        "        # self.target_dataframe = ((self.target_dataframe - self.target_dataframe[self.target_dataframe != 0].mean()) \\\n",
        "        #                         / (self.target_dataframe[self.target_dataframe != 0].std() + self.std_epsilon)) * 100\n",
        "\n",
        "        self.covariates_df = self._create_covariates_df()\n",
        "        self.next_covariate = self._create_full_covariates_df()\n",
        "\n",
        "        # Split to train and test sets\n",
        "        n_series = self.target_dataframe.shape[1]\n",
        "        train_size = int((n_series * train_frac) - (n_series * train_frac) % self.batch_size)\n",
        "        self.train_indices = sorted(np.random.choice(n_series, train_size, replace=False))\n",
        "        self.test_indices = sorted(list(set(range(n_series)) - set(self.train_indices)))\n",
        "\n",
        "        self.train_target_df = self.target_dataframe.iloc[:, self.train_indices]\n",
        "        self.test_target_df = self.target_dataframe.iloc[:, self.test_indices]\n",
        "\n",
        "    def _create_covariates_df(self):\n",
        "        yearly = np.sin(2 * np.pi * self.target_dataframe.index.dayofyear / 366)\n",
        "        weekly = np.sin(2 * np.pi * self.target_dataframe.index.dayofweek / 7)\n",
        "        daily = np.sin(2 * np.pi * self.target_dataframe.index.hour / 24)\n",
        "        return pd.DataFrame({'yearly': yearly,\n",
        "                             'weekly': weekly,\n",
        "                             'daily': daily},\n",
        "                            index=self.target_dataframe.index)\n",
        "\n",
        "    def _create_full_covariates_df(self):\n",
        "        full_covariate = []\n",
        "        for i in range(1, self.target_dataframe.shape[0] - self.horizon_size + 1):\n",
        "            new_entry = self.covariates_df.iloc[i:i + self.horizon_size, :].to_numpy()\n",
        "            full_covariate.append(new_entry)\n",
        "\n",
        "        full_covariate = np.array(full_covariate)\n",
        "        return full_covariate.reshape(-1, self.horizon_size * self.covariate_size)\n",
        "\n",
        "    def __get_item(self, idx, target_df):\n",
        "        cur_series = np.array(target_df.iloc[: -self.horizon_size, idx])\n",
        "        cur_covariate = np.array(\n",
        "            self.covariates_df.iloc[:-self.horizon_size, :])  # covariate used in generating hidden states\n",
        "\n",
        "        real_vals_list = []\n",
        "        for i in range(1, self.horizon_size + 1):\n",
        "            real_vals_list.append(\n",
        "                np.array(target_df.iloc[i: target_df.shape[0] - self.horizon_size + i, idx]))\n",
        "        real_vals_array = np.array(real_vals_list)  # [horizon_size, seq_len]\n",
        "        real_vals_array = real_vals_array.T  # [seq_len, horizon_size]\n",
        "        cur_series_tensor = torch.tensor(cur_series)\n",
        "\n",
        "        cur_series_tensor = torch.unsqueeze(cur_series_tensor, dim=1)  # [seq_len, 1]\n",
        "        cur_covariate_tensor = torch.tensor(cur_covariate)  # [seq_len, covariate_size]\n",
        "        cur_series_covariate_tensor = torch.cat([cur_series_tensor, cur_covariate_tensor], dim=1)\n",
        "        next_covariate_tensor = torch.tensor(self.next_covariate)  # [seq_len, horizon_size * covariate_size]\n",
        "\n",
        "        cur_real_vals_tensor = torch.tensor(real_vals_array)\n",
        "        return cur_series_covariate_tensor, next_covariate_tensor, cur_real_vals_tensor\n",
        "\n",
        "    def test_length(self):\n",
        "        return self.test_target_df.shape[1]\n",
        "\n",
        "    def get_test_item(self, idx):\n",
        "        return self.__get_item(idx=idx, target_df=self.test_target_df)\n",
        "\n",
        "    def __len__(self):\n",
        "        return self.train_target_df.shape[1]\n",
        "\n",
        "    def __getitem__(self, idx):\n",
        "        return self.__get_item(idx=idx, target_df=self.train_target_df)\n"
      ],
      "execution_count": null,
      "outputs": []
    },
    {
      "cell_type": "markdown",
      "metadata": {
        "id": "vfLfECsHA1Pd"
      },
      "source": [
        "## MQRNN net"
      ]
    },
    {
      "cell_type": "code",
      "metadata": {
        "id": "yc7yil6T_l-v"
      },
      "source": [
        "class MQRNN(object):\n",
        "    \"\"\"\n",
        "    This class holds the encoder and the global decoder and local decoder.\n",
        "    \"\"\"\n",
        "\n",
        "    def __init__(self,\n",
        "                 horizon_size: int,\n",
        "                 hidden_size: int,\n",
        "                 quantiles: list,\n",
        "                 lr: float,\n",
        "                 batch_size: int,\n",
        "                 num_epochs: int,\n",
        "                 context_size: int,\n",
        "                 covariate_size: int,\n",
        "                 device):\n",
        "        # Notify user of selected device\n",
        "        print(f\"Selected device is: {device}\")\n",
        "\n",
        "        # Initialize model parameters\n",
        "        self.device = device\n",
        "        self.horizon_size = horizon_size\n",
        "        self.hidden_size = hidden_size\n",
        "        self.quantiles = quantiles\n",
        "        self.lr = lr\n",
        "        self.batch_size = batch_size\n",
        "        self.num_epochs = num_epochs\n",
        "        self.context_size = context_size\n",
        "        self.covariate_size = covariate_size\n",
        "        self.quantile_size = len(quantiles)\n",
        "\n",
        "        # Define encoder-decoder sub-components\n",
        "        self.__initialize_sub_components()\n",
        "\n",
        "    # Private methods\n",
        "\n",
        "    def __initialize_sub_components(self):\n",
        "        # Define encoder & decoder sub-components\n",
        "        self.encoder = Encoder(lr=self.lr,\n",
        "                               hidden_units=self.hidden_size,\n",
        "                               num_layers=1)\n",
        "\n",
        "        self.gdecoder = GlobalDecoder(hidden_size=self.hidden_size,\n",
        "                                      covariate_size=self.covariate_size,\n",
        "                                      horizon_size=self.horizon_size,\n",
        "                                      context_size=self.context_size)\n",
        "        self.ldecoder = LocalDecoder(covariate_size=self.covariate_size,\n",
        "                                     quantile_size=self.quantile_size,\n",
        "                                     context_size=self.context_size,\n",
        "                                     quantiles=self.quantiles,\n",
        "                                     horizon_size=self.horizon_size)\n",
        "        # Apply double casting\n",
        "        self.encoder.double()\n",
        "        self.gdecoder.double()\n",
        "        self.ldecoder.double()\n",
        "\n",
        "    def __reshape_tensor_for_decoder(self, input_tensor: torch.Tensor, n_samples, dim_without_batch=2):\n",
        "        # Final output shape should be: [seq_len, batch_size, input_tensor_contents]\n",
        "        if len(input_tensor.shape) == dim_without_batch:\n",
        "            return input_tensor.reshape(input_tensor.shape[0], n_samples, input_tensor.shape[1])\n",
        "        else:\n",
        "            return input_tensor.permute(1, 0, 2)\n",
        "\n",
        "    def __compute_loss(self, cur_series_covariate_tensor: torch.Tensor,\n",
        "                       next_covariate_tensor: torch.Tensor,\n",
        "                       cur_real_vals_tensor: torch.Tensor):\n",
        "\n",
        "        # Initialize variables\n",
        "        total_loss = torch.tensor([0.0], device=self.device)\n",
        "\n",
        "        # Cast to double\n",
        "        cur_series_covariate_tensor = cur_series_covariate_tensor.double()  # [batch_size, seq_len, 1+covariate_size]\n",
        "        next_covariate_tensor = next_covariate_tensor.double()  # [batch_size, seq_len, covariate_size * horizon_size]\n",
        "        cur_real_vals_tensor = cur_real_vals_tensor.double()  # [batch_size, seq_len, horizon_size]\n",
        "\n",
        "        # Switch devices\n",
        "        cur_series_covariate_tensor = cur_series_covariate_tensor.to(self.device)\n",
        "        next_covariate_tensor = next_covariate_tensor.to(self.device)\n",
        "        cur_real_vals_tensor = cur_real_vals_tensor.to(self.device)\n",
        "        self.encoder.to(self.device)\n",
        "        self.gdecoder.to(self.device)\n",
        "        self.ldecoder.to(self.device)\n",
        "\n",
        "        # Run forward\n",
        "        forecasts = self.forward(cur_series_covariate_tensor=cur_series_covariate_tensor,\n",
        "                                 next_covariate_tensor=next_covariate_tensor,\n",
        "                                 n_samples=self.batch_size)\n",
        "\n",
        "        # Reshape real values tensor - [seq_len, batch_size, horizon_size]\n",
        "        cur_real_vals_tensor = self.__reshape_tensor_for_decoder(input_tensor=cur_real_vals_tensor,\n",
        "                                                                 n_samples=self.batch_size)\n",
        "\n",
        "        # Compute total quantile loss\n",
        "        for i in range(self.quantile_size):\n",
        "            p = self.ldecoder.quantiles[i]\n",
        "            errors = cur_real_vals_tensor - forecasts[:, :, :, i]\n",
        "            cur_loss = torch.max((p - 1) * errors, p * errors)\n",
        "            total_loss += torch.sum(cur_loss)\n",
        "\n",
        "        return total_loss\n",
        "\n",
        "    # Public methods\n",
        "    def forward(self, cur_series_covariate_tensor: torch.Tensor, next_covariate_tensor: torch.Tensor, n_samples: int):\n",
        "        # Expected argument shapes:\n",
        "        # cur_series_covariate_tensor - [seq_len, target_size + covariate_size]\n",
        "        # next_covariate_tensor -       [seq_len, covariate_size * horizon_size]\n",
        "\n",
        "        # Reshape input data - [seq_len, batch_size, target_size + covariate_size]\n",
        "        encoder_input = self.__reshape_tensor_for_decoder(input_tensor=cur_series_covariate_tensor, n_samples=n_samples)\n",
        "\n",
        "        # Encode and reshape hidden state - [seq_len, batch_size, hidden_size]\n",
        "        hidden_state = self.encoder(encoder_input)\n",
        "        hidden_state = hidden_state.permute(1, 0, 2)\n",
        "        hidden_state = hidden_state.repeat(1, n_samples, 1)\n",
        "\n",
        "        # Reshape next covariate tensor - [seq_len, covariate_size * horizon_size]\n",
        "        decoder_covariate_input = self.__reshape_tensor_for_decoder(input_tensor=next_covariate_tensor, n_samples=n_samples)\n",
        "\n",
        "        # Decode horizon-specific and -agnostic contexts\n",
        "        # Expected input shape - [seq_len, batch_size, hidden_size+covariate_size * horizon_size]\n",
        "        # Expected contexts shape - [seq_len, batch_size, (horizon_size+1) * context_size]\n",
        "        # print('-'*20)\n",
        "        # print('hidden_state', hidden_state.shape)\n",
        "        # print('decoder_covariate_input', decoder_covariate_input.shape)\n",
        "        hidden_and_covariate = torch.cat([hidden_state, decoder_covariate_input], dim=2)\n",
        "        contexts = self.gdecoder(hidden_and_covariate)\n",
        "\n",
        "        # Forecast quantiles over all horizons\n",
        "        # Expected input shape - [seq_len, batch_size,(horizon_size+1)*context_size + covariate_size * horizon_size]\n",
        "        # Expected forecasts shape - [seq_len, batch_size, horizon_size* quantile_size]\n",
        "        local_decoder_input = torch.cat([contexts, decoder_covariate_input], dim=2)\n",
        "        forecasts = self.ldecoder(local_decoder_input)\n",
        "\n",
        "        return forecasts.reshape(self.seq_len, n_samples, self.horizon_size, self.quantile_size)\n",
        "\n",
        "    def train(self, dataset: MQRNN_dataset, n_epochs_per_report=-1):\n",
        "        # Initialize optimizers\n",
        "        encoder_optimizer = torch.optim.Adam(self.encoder.parameters(), lr=self.lr)\n",
        "        gdecoder_optimizer = torch.optim.Adam(self.gdecoder.parameters(), lr=self.lr)\n",
        "        ldecoder_optimizer = torch.optim.Adam(self.ldecoder.parameters(), lr=self.lr)\n",
        "\n",
        "        data_iter = DataLoader(dataset=dataset, batch_size=self.batch_size, shuffle=True, num_workers=0)\n",
        "        loss_per_epoch = []\n",
        "        for epoch_index in range(self.num_epochs):\n",
        "            epoch_loss_sum = 0.0\n",
        "            total_sample = 0\n",
        "            for i, (cur_series_tensor, cur_covariate_tensor, cur_real_vals_tensor) in enumerate(data_iter):\n",
        "                # if i in (165,166):\n",
        "                #     print('cur_series_tensor', cur_series_tensor.shape)\n",
        "                #     print('cur_covariate_tensor', cur_covariate_tensor.shape)\n",
        "                #     print('cur_real_vals_tensor', cur_real_vals_tensor.shape)\n",
        "                self.seq_len = cur_series_tensor.shape[1]\n",
        "                horizon_size = cur_covariate_tensor.shape[-1]\n",
        "                total_sample += self.batch_size * self.seq_len * horizon_size\n",
        "                encoder_optimizer.zero_grad()\n",
        "                gdecoder_optimizer.zero_grad()\n",
        "                ldecoder_optimizer.zero_grad()\n",
        "                loss = self.__compute_loss(cur_series_tensor, cur_covariate_tensor, cur_real_vals_tensor)\n",
        "                loss.backward()\n",
        "                encoder_optimizer.step()\n",
        "                gdecoder_optimizer.step()\n",
        "                ldecoder_optimizer.step()\n",
        "                epoch_loss_sum += loss.item()\n",
        "            epoch_loss_mean = epoch_loss_sum / total_sample\n",
        "            loss_per_epoch.append(epoch_loss_mean)\n",
        "            if (n_epochs_per_report >= 1) and ((epoch_index + 1) % n_epochs_per_report == 0):\n",
        "                print(f\"\\tEpoch {epoch_index + 1} of {self.num_epochs}, loss = {epoch_loss_mean}\")\n",
        "        print(\"Training completed successfully!\")\n",
        "        return loss_per_epoch\n",
        "\n",
        "    def predict(self, cur_series_covariate_tensor: torch.Tensor, next_covariate_tensor: torch.Tensor):\n",
        "        self.seq_len = 1\n",
        "\n",
        "        # Make forecasts (no need to track gradients in prediction time)\n",
        "        with torch.no_grad():\n",
        "            forecasts = self.forward(cur_series_covariate_tensor=cur_series_covariate_tensor,\n",
        "                                     next_covariate_tensor=next_covariate_tensor,\n",
        "                                     n_samples=1)\n",
        "\n",
        "        # Organize results in a readable format\n",
        "        horizons = {}\n",
        "        for horizon_index in range(self.horizon_size):\n",
        "            quantile_predictions = {}\n",
        "            for quantile_index in range(self.quantile_size):\n",
        "                quantile_name = self.quantiles[quantile_index]\n",
        "                quantile_predictions[quantile_name] = float(forecasts[:, :, horizon_index, quantile_index])\n",
        "            horizons[f\"t+{horizon_index + 1}\"] = quantile_predictions\n",
        "        return horizons"
      ],
      "execution_count": null,
      "outputs": []
    },
    {
      "cell_type": "markdown",
      "metadata": {
        "id": "MOsZnVHFA6WM"
      },
      "source": [
        "## Train model"
      ]
    },
    {
      "cell_type": "markdown",
      "metadata": {
        "id": "TympOX-qA8Nr"
      },
      "source": [
        "### Configuration params"
      ]
    },
    {
      "cell_type": "code",
      "metadata": {
        "id": "Q1IR1Vqk_L1J"
      },
      "source": [
        "batch_size = 8  # 128\n",
        "hidden_size = 8\n",
        "covariate_size = 3\n",
        "horizon_size = 24\n",
        "context_size = 10\n",
        "quantiles = [0.25, 0.5, 0.75]\n",
        "device = 'cpu'\n",
        "learning_rate = 1e-3\n",
        "num_epochs = 200"
      ],
      "execution_count": null,
      "outputs": []
    },
    {
      "cell_type": "markdown",
      "metadata": {
        "id": "RkdfLEZmA-Mi"
      },
      "source": [
        "### Training"
      ]
    },
    {
      "cell_type": "code",
      "metadata": {
        "colab": {
          "base_uri": "https://localhost:8080/"
        },
        "id": "NryFfrY9LuWs",
        "outputId": "9a4f7d30-c460-4283-a7eb-9022e35ecadd"
      },
      "source": [
        "from google.colab import drive\n",
        "drive.mount('/content/drive')"
      ],
      "execution_count": null,
      "outputs": [
        {
          "output_type": "stream",
          "text": [
            "Drive already mounted at /content/drive; to attempt to forcibly remount, call drive.mount(\"/content/drive\", force_remount=True).\n"
          ],
          "name": "stdout"
        }
      ]
    },
    {
      "cell_type": "code",
      "metadata": {
        "colab": {
          "base_uri": "https://localhost:8080/"
        },
        "id": "WqOxnk-OLo4e",
        "outputId": "1f977a34-6e83-4d53-9fae-44837f239add"
      },
      "source": [
        "!ls drive/MyDrive/ATS\\ Yandex\n"
      ],
      "execution_count": null,
      "outputs": [
        {
          "output_type": "stream",
          "text": [
            "'Implementation ideas (HW #3).gdoc'\n"
          ],
          "name": "stdout"
        }
      ]
    },
    {
      "cell_type": "code",
      "metadata": {
        "colab": {
          "base_uri": "https://localhost:8080/",
          "height": 283
        },
        "id": "HdyMsDF9KLhk",
        "outputId": "40b51306-afdd-4a54-b6e8-a28d0ed1f764"
      },
      "source": [
        "eldata = __prepare_data(data_path='drive/MyDrive/ATS Yandex/LD2011_2014.parquet')\n",
        "(eldata != 0).mean().plot()\n",
        "plt.ylabel(\"non-zero %\")"
      ],
      "execution_count": null,
      "outputs": [
        {
          "output_type": "execute_result",
          "data": {
            "text/plain": [
              "Text(0, 0.5, 'non-zero %')"
            ]
          },
          "metadata": {
            "tags": []
          },
          "execution_count": 54
        },
        {
          "output_type": "display_data",
          "data": {
            "image/png": "[encoded data removed]",
            "text/plain": [
              "<Figure size 432x288 with 1 Axes>"
            ]
          },
          "metadata": {
            "tags": [],
            "needs_background": "light"
          }
        }
      ]
    },
    {
      "cell_type": "code",
      "metadata": {
        "colab": {
          "base_uri": "https://localhost:8080/"
        },
        "id": "68obwtyV_OgD",
        "outputId": "7b81c9ec-2281-4151-abd8-2377f6b93e0a"
      },
      "source": [
        "# eldata = __prepare_data()  # TODO: Decide if we want/need to scale our data like Gleb did\n",
        "eldata = eldata[-1000:]  # TODO: Remove this after implementation is complete\n",
        "\n",
        "dataset = MQRNN_dataset(target_dataframe=eldata,\n",
        "                        horizon_size=horizon_size,\n",
        "                        covariate_size=covariate_size,\n",
        "                        batch_size=batch_size)\n",
        "\n",
        "cur_series_covariate_tensor, next_covariate_tensor, cur_real_vals_tensor = dataset[0]\n",
        "print(f\"\\nInput shapes:\\n#############\")\n",
        "print(f\"cur_series_covariate_tensor:    {cur_series_covariate_tensor.shape}\")  # Target + covariates\n",
        "print(f\"next_covariate_tensor:          {next_covariate_tensor.shape}\")  # Future covariates (flattened)\n",
        "print(f\"cur_real_vals_tensor:           {cur_real_vals_tensor.shape}\")  # Real expected target values\n",
        "\n",
        "# Define model\n",
        "model = MQRNN(horizon_size, hidden_size, quantiles,\n",
        "              learning_rate, batch_size, num_epochs,\n",
        "              context_size, covariate_size, device)\n",
        "\n",
        "# Test forward method\n",
        "# print(f\"\\nForward results:\\n################\")\n",
        "# forecasts = model.forward(cur_series_covariate_tensor, next_covariate_tensor)\n",
        "# print(f\"Forecasts shape:                {forecasts.shape}\")\n",
        "\n",
        "# Train\n",
        "print(\"Training model, stand by...\\n###########################\")\n",
        "loss_per_epoch = model.train(dataset=dataset, n_epochs_per_report=1)\n"
      ],
      "execution_count": null,
      "outputs": [
        {
          "output_type": "stream",
          "text": [
            "\n",
            "Input shapes:\n",
            "#############\n",
            "cur_series_covariate_tensor:    torch.Size([976, 4])\n",
            "next_covariate_tensor:          torch.Size([976, 72])\n",
            "cur_real_vals_tensor:           torch.Size([976, 24])\n",
            "Selected device is: cpu\n",
            "Training model, stand by...\n",
            "###########################\n",
            "\tEpoch 1 of 200, loss = 0.1389228454397321\n",
            "\tEpoch 2 of 200, loss = 0.13342668015665912\n",
            "\tEpoch 3 of 200, loss = 0.13278157229404244\n",
            "\tEpoch 4 of 200, loss = 0.13281612064917955\n",
            "\tEpoch 5 of 200, loss = 0.1327159215049332\n",
            "\tEpoch 6 of 200, loss = 0.13229068910494612\n",
            "\tEpoch 7 of 200, loss = 0.1322003859046659\n",
            "\tEpoch 8 of 200, loss = 0.13201745109654706\n",
            "\tEpoch 9 of 200, loss = 0.13177670758411045\n",
            "\tEpoch 10 of 200, loss = 0.13186885330909953\n",
            "\tEpoch 11 of 200, loss = 0.13170505147279196\n",
            "\tEpoch 12 of 200, loss = 0.13229895758710405\n",
            "\tEpoch 13 of 200, loss = 0.13175478065880852\n",
            "\tEpoch 14 of 200, loss = 0.13159337705347549\n",
            "\tEpoch 15 of 200, loss = 0.13172071174649716\n",
            "\tEpoch 16 of 200, loss = 0.13165523399065937\n",
            "\tEpoch 17 of 200, loss = 0.1314396413133423\n",
            "\tEpoch 18 of 200, loss = 0.1315631567332919\n",
            "\tEpoch 19 of 200, loss = 0.1315537680259385\n",
            "\tEpoch 20 of 200, loss = 0.13171612526321935\n",
            "\tEpoch 21 of 200, loss = 0.1314834990618553\n",
            "\tEpoch 22 of 200, loss = 0.13155269813461334\n",
            "\tEpoch 23 of 200, loss = 0.1314235439653891\n",
            "\tEpoch 24 of 200, loss = 0.13140192226332123\n",
            "\tEpoch 25 of 200, loss = 0.13152195159669422\n",
            "\tEpoch 26 of 200, loss = 0.1314062675846545\n",
            "\tEpoch 27 of 200, loss = 0.13136537021340552\n",
            "\tEpoch 28 of 200, loss = 0.13149042073166392\n",
            "\tEpoch 29 of 200, loss = 0.1317594347623364\n",
            "\tEpoch 30 of 200, loss = 0.1314012806335799\n",
            "\tEpoch 31 of 200, loss = 0.13143398375241916\n",
            "\tEpoch 32 of 200, loss = 0.1314026893040527\n",
            "\tEpoch 33 of 200, loss = 0.13136497838879857\n",
            "\tEpoch 34 of 200, loss = 0.13144800910744642\n",
            "\tEpoch 35 of 200, loss = 0.1313555769708718\n",
            "\tEpoch 37 of 200, loss = 0.13139478044638264\n",
            "\tEpoch 38 of 200, loss = 0.13148140808780653\n",
            "\tEpoch 39 of 200, loss = 0.13141752017047997\n",
            "\tEpoch 40 of 200, loss = 0.1313419602184083\n",
            "\tEpoch 41 of 200, loss = 0.13148329010002988\n",
            "\tEpoch 42 of 200, loss = 0.1313288579899529\n",
            "\tEpoch 43 of 200, loss = 0.13141208919671063\n",
            "\tEpoch 44 of 200, loss = 0.13130468942793977\n",
            "\tEpoch 45 of 200, loss = 0.1313310057378958\n",
            "\tEpoch 46 of 200, loss = 0.13134193056040389\n",
            "\tEpoch 47 of 200, loss = 0.13145540700006889\n",
            "\tEpoch 48 of 200, loss = 0.13133945793020682\n",
            "\tEpoch 49 of 200, loss = 0.1314412342023911\n",
            "\tEpoch 50 of 200, loss = 0.13133611115151378\n",
            "\tEpoch 51 of 200, loss = 0.1312765297459033\n",
            "\tEpoch 52 of 200, loss = 0.1312613497623954\n",
            "\tEpoch 53 of 200, loss = 0.131346777186749\n",
            "\tEpoch 54 of 200, loss = 0.1311758284492735\n",
            "\tEpoch 55 of 200, loss = 0.13142585322235037\n",
            "\tEpoch 56 of 200, loss = 0.13137444352906624\n",
            "\tEpoch 57 of 200, loss = 0.13139987348837592\n",
            "\tEpoch 58 of 200, loss = 0.1312019788438791\n",
            "\tEpoch 59 of 200, loss = 0.1313341460968781\n",
            "\tEpoch 60 of 200, loss = 0.13118998684163488\n",
            "\tEpoch 61 of 200, loss = 0.1312011136775216\n",
            "\tEpoch 62 of 200, loss = 0.13119642449281138\n",
            "\tEpoch 63 of 200, loss = 0.13109711203816\n",
            "\tEpoch 64 of 200, loss = 0.13115094385829654\n",
            "\tEpoch 65 of 200, loss = 0.13128217730784206\n",
            "\tEpoch 66 of 200, loss = 0.13128819822168789\n",
            "\tEpoch 67 of 200, loss = 0.1311626472457892\n",
            "\tEpoch 68 of 200, loss = 0.13125651211818876\n",
            "\tEpoch 69 of 200, loss = 0.13112776214519617\n",
            "\tEpoch 70 of 200, loss = 0.13111680529204334\n",
            "\tEpoch 71 of 200, loss = 0.13122353987414365\n",
            "\tEpoch 72 of 200, loss = 0.13121772961686637\n",
            "\tEpoch 73 of 200, loss = 0.13135712376290803\n",
            "\tEpoch 74 of 200, loss = 0.13122885458853567\n",
            "\tEpoch 75 of 200, loss = 0.13119570524383561\n",
            "\tEpoch 76 of 200, loss = 0.13114569371361698\n",
            "\tEpoch 77 of 200, loss = 0.13113176275578092\n",
            "\tEpoch 78 of 200, loss = 0.13117248099268322\n",
            "\tEpoch 79 of 200, loss = 0.13110625805830012\n",
            "\tEpoch 80 of 200, loss = 0.1311629938207551\n",
            "\tEpoch 81 of 200, loss = 0.13111244166748448\n",
            "\tEpoch 82 of 200, loss = 0.1313916514421792\n",
            "\tEpoch 83 of 200, loss = 0.13115511190950052\n",
            "\tEpoch 84 of 200, loss = 0.13092751621410897\n",
            "\tEpoch 85 of 200, loss = 0.13126909778894433\n",
            "\tEpoch 86 of 200, loss = 0.13111447603711338\n",
            "\tEpoch 87 of 200, loss = 0.1311090460801899\n",
            "\tEpoch 88 of 200, loss = 0.13116168836013772\n",
            "\tEpoch 89 of 200, loss = 0.13109720507955672\n",
            "\tEpoch 90 of 200, loss = 0.13118089776486325\n",
            "\tEpoch 91 of 200, loss = 0.1309741672382154\n",
            "\tEpoch 92 of 200, loss = 0.1312619093665702\n",
            "\tEpoch 93 of 200, loss = 0.1311251839325034\n",
            "\tEpoch 94 of 200, loss = 0.13116021783154144\n",
            "\tEpoch 95 of 200, loss = 0.13108013155957235\n",
            "\tEpoch 96 of 200, loss = 0.1310125638465317\n",
            "\tEpoch 97 of 200, loss = 0.131156520410499\n",
            "\tEpoch 98 of 200, loss = 0.13109909607391854\n",
            "\tEpoch 99 of 200, loss = 0.1311950731046557\n",
            "\tEpoch 100 of 200, loss = 0.13096346069861986\n",
            "\tEpoch 101 of 200, loss = 0.13127280724266283\n",
            "\tEpoch 102 of 200, loss = 0.13121635755284475\n",
            "\tEpoch 103 of 200, loss = 0.13113147397155503\n",
            "\tEpoch 104 of 200, loss = 0.1311062161981453\n",
            "\tEpoch 105 of 200, loss = 0.1310642711367059\n",
            "\tEpoch 106 of 200, loss = 0.13112757690977428\n",
            "\tEpoch 107 of 200, loss = 0.13108379000152326\n",
            "\tEpoch 108 of 200, loss = 0.13088359152324314\n",
            "\tEpoch 109 of 200, loss = 0.1311200227618371\n",
            "\tEpoch 110 of 200, loss = 0.13105364086055032\n",
            "\tEpoch 111 of 200, loss = 0.1310560567168532\n",
            "\tEpoch 112 of 200, loss = 0.13090666121382394\n",
            "\tEpoch 113 of 200, loss = 0.13099260926326084\n",
            "\tEpoch 114 of 200, loss = 0.13096379083457763\n",
            "\tEpoch 115 of 200, loss = 0.13111136381086672\n",
            "\tEpoch 116 of 200, loss = 0.13108888541615688\n",
            "\tEpoch 117 of 200, loss = 0.13109352545331693\n",
            "\tEpoch 118 of 200, loss = 0.13105905387004269\n",
            "\tEpoch 119 of 200, loss = 0.13103972735856828\n",
            "\tEpoch 120 of 200, loss = 0.13102410301341702\n",
            "\tEpoch 121 of 200, loss = 0.13106222964915595\n",
            "\tEpoch 122 of 200, loss = 0.13102525882821783\n",
            "\tEpoch 123 of 200, loss = 0.1310326967167777\n",
            "\tEpoch 124 of 200, loss = 0.13100970057804787\n",
            "\tEpoch 125 of 200, loss = 0.1306819053994613\n",
            "\tEpoch 126 of 200, loss = 0.13076558740788624\n",
            "\tEpoch 127 of 200, loss = 0.13081673678862873\n",
            "\tEpoch 128 of 200, loss = 0.13069888452225448\n",
            "\tEpoch 129 of 200, loss = 0.13070252364413393\n",
            "\tEpoch 130 of 200, loss = 0.1306798042569539\n",
            "\tEpoch 131 of 200, loss = 0.1308059639845776\n",
            "\tEpoch 132 of 200, loss = 0.13076347592744586\n",
            "\tEpoch 133 of 200, loss = 0.13063509100211912\n",
            "\tEpoch 134 of 200, loss = 0.13069911619363755\n",
            "\tEpoch 135 of 200, loss = 0.1308419408386819\n",
            "\tEpoch 136 of 200, loss = 0.13078502983978935\n",
            "\tEpoch 137 of 200, loss = 0.1306409476953576\n",
            "\tEpoch 138 of 200, loss = 0.13080101974102937\n",
            "\tEpoch 139 of 200, loss = 0.13078248399668996\n",
            "\tEpoch 140 of 200, loss = 0.13065187183996843\n",
            "\tEpoch 141 of 200, loss = 0.13066130545801427\n",
            "\tEpoch 142 of 200, loss = 0.1306459171905782\n",
            "\tEpoch 143 of 200, loss = 0.13065564264338753\n",
            "\tEpoch 144 of 200, loss = 0.13079666170912277\n",
            "\tEpoch 145 of 200, loss = 0.1306620892767025\n",
            "\tEpoch 146 of 200, loss = 0.13041276595779874\n",
            "\tEpoch 147 of 200, loss = 0.13061605429171647\n",
            "\tEpoch 148 of 200, loss = 0.13048462594671334\n",
            "\tEpoch 149 of 200, loss = 0.1303855488918799\n",
            "\tEpoch 150 of 200, loss = 0.13033138507156816\n",
            "\tEpoch 151 of 200, loss = 0.13050198638670618\n",
            "\tEpoch 152 of 200, loss = 0.13036605629558073\n",
            "\tEpoch 153 of 200, loss = 0.1304783318402782\n",
            "\tEpoch 154 of 200, loss = 0.13031911021669892\n",
            "\tEpoch 155 of 200, loss = 0.13030490860838825\n",
            "\tEpoch 156 of 200, loss = 0.1304190592168623\n",
            "\tEpoch 157 of 200, loss = 0.13047951273727706\n",
            "\tEpoch 158 of 200, loss = 0.13040951866052625\n",
            "\tEpoch 159 of 200, loss = 0.13037123085471758\n",
            "\tEpoch 160 of 200, loss = 0.13040382856053542\n",
            "\tEpoch 161 of 200, loss = 0.13041592987371023\n",
            "\tEpoch 162 of 200, loss = 0.13042414700515192\n",
            "\tEpoch 163 of 200, loss = 0.13025388921444225\n",
            "\tEpoch 164 of 200, loss = 0.13044651524155962\n",
            "\tEpoch 165 of 200, loss = 0.1304586067252244\n",
            "\tEpoch 166 of 200, loss = 0.13045789340784952\n",
            "\tEpoch 167 of 200, loss = 0.13050410871350246\n",
            "\tEpoch 168 of 200, loss = 0.13039653997884354\n",
            "\tEpoch 169 of 200, loss = 0.13037802304615262\n",
            "\tEpoch 170 of 200, loss = 0.1304060386750248\n",
            "\tEpoch 171 of 200, loss = 0.13042856909834807\n",
            "\tEpoch 172 of 200, loss = 0.13040774223079865\n",
            "\tEpoch 173 of 200, loss = 0.13039618984491708\n",
            "\tEpoch 174 of 200, loss = 0.13034204517520248\n",
            "\tEpoch 175 of 200, loss = 0.13034530162408778\n",
            "\tEpoch 176 of 200, loss = 0.13007052512789372\n",
            "\tEpoch 177 of 200, loss = 0.13016308047229241\n",
            "\tEpoch 178 of 200, loss = 0.13009353058771067\n",
            "\tEpoch 179 of 200, loss = 0.13003003381709383\n",
            "\tEpoch 180 of 200, loss = 0.1301022998664575\n",
            "\tEpoch 181 of 200, loss = 0.13006102948225007\n",
            "\tEpoch 182 of 200, loss = 0.13003692684574392\n",
            "\tEpoch 183 of 200, loss = 0.13006642944222052\n",
            "\tEpoch 184 of 200, loss = 0.13016247155109312\n",
            "\tEpoch 185 of 200, loss = 0.13013026753409965\n",
            "\tEpoch 186 of 200, loss = 0.13007461132300552\n",
            "\tEpoch 187 of 200, loss = 0.13008675517423238\n",
            "\tEpoch 188 of 200, loss = 0.1301303793871449\n",
            "\tEpoch 189 of 200, loss = 0.1300753819226975\n",
            "\tEpoch 190 of 200, loss = 0.13013570223630383\n",
            "\tEpoch 191 of 200, loss = 0.13006568544999536\n",
            "\tEpoch 192 of 200, loss = 0.13012361685371424\n",
            "\tEpoch 193 of 200, loss = 0.13007099524963237\n",
            "\tEpoch 194 of 200, loss = 0.1299862250466567\n",
            "\tEpoch 195 of 200, loss = 0.13006850431620973\n",
            "\tEpoch 196 of 200, loss = 0.12999869140749734\n",
            "\tEpoch 197 of 200, loss = 0.12999117267969115\n",
            "\tEpoch 198 of 200, loss = 0.13003038564576339\n",
            "\tEpoch 199 of 200, loss = 0.1300813250478346\n",
            "\tEpoch 200 of 200, loss = 0.13005720732811477\n",
            "Training completed successfully!\n"
          ],
          "name": "stdout"
        }
      ]
    },
    {
      "cell_type": "markdown",
      "metadata": {
        "id": "EDqZdMIeBGAA"
      },
      "source": [
        "### Test and plot"
      ]
    },
    {
      "cell_type": "code",
      "metadata": {
        "colab": {
          "base_uri": "https://localhost:8080/"
        },
        "id": "opeZ8n0XBHEU",
        "outputId": "48ddb5a4-42b1-482f-86b3-96e2886cd444"
      },
      "source": [
        "\n",
        "# Test predict method\n",
        "print(f\"\\nPrediction results:\\n###################\")\n",
        "# Reshape input for a single FCT\n",
        "sample_index = 0\n",
        "cur_real_vals_tensor = cur_real_vals_tensor[sample_index, :].reshape(horizon_size)\n",
        "cur_series_covariate_tensor = cur_series_covariate_tensor[sample_index, :].reshape(1, covariate_size + 1)\n",
        "next_covariate_tensor = next_covariate_tensor[sample_index, :].reshape(1, covariate_size * horizon_size)\n",
        "\n",
        "# Make prediction\n",
        "prediction = model.predict(cur_series_covariate_tensor, next_covariate_tensor)\n",
        "pprint.pprint(prediction, width=1)\n"
      ],
      "execution_count": null,
      "outputs": [
        {
          "output_type": "stream",
          "text": [
            "\n",
            "Prediction results:\n",
            "###################\n",
            "{'t+1': {0.25: 0.0,\n",
            "         0.5: 0.12509979898915893,\n",
            "         0.75: 0.25376299871545366},\n",
            " 't+10': {0.25: 0.2199308767133269,\n",
            "          0.5: 0.3309376034989493,\n",
            "          0.75: 0.4569167482383697},\n",
            " 't+11': {0.25: 0.19358710689026554,\n",
            "          0.5: 0.28585423451686093,\n",
            "          0.75: 0.4273711811633655},\n",
            " 't+12': {0.25: 0.12917021797812828,\n",
            "          0.5: 0.22659663414109538,\n",
            "          0.75: 0.32905553845550584},\n",
            " 't+13': {0.25: 0.0,\n",
            "          0.5: 0.10685114043195465,\n",
            "          0.75: 0.20305178380557165},\n",
            " 't+14': {0.25: 0.0,\n",
            "          0.5: 0.0,\n",
            "          0.75: 0.025760359051451798},\n",
            " 't+15': {0.25: 0.0,\n",
            "          0.5: 0.0,\n",
            "          0.75: 0.0},\n",
            " 't+16': {0.25: 0.0,\n",
            "          0.5: 0.0,\n",
            "          0.75: 0.0},\n",
            " 't+17': {0.25: 0.0,\n",
            "          0.5: 0.0,\n",
            "          0.75: 0.0},\n",
            " 't+18': {0.25: 0.0,\n",
            "          0.5: 0.0,\n",
            "          0.75: 0.0},\n",
            " 't+19': {0.25: 0.0,\n",
            "          0.5: 0.0,\n",
            "          0.75: 0.0},\n",
            " 't+2': {0.25: 0.0,\n",
            "         0.5: 0.1665673800492336,\n",
            "         0.75: 0.2960576133347411},\n",
            " 't+20': {0.25: 0.0,\n",
            "          0.5: 0.0,\n",
            "          0.75: 0.0},\n",
            " 't+21': {0.25: 0.0,\n",
            "          0.5: 0.0,\n",
            "          0.75: 0.0},\n",
            " 't+22': {0.25: 0.0,\n",
            "          0.5: 0.0,\n",
            "          0.75: 0.0},\n",
            " 't+23': {0.25: 0.0,\n",
            "          0.5: 0.0,\n",
            "          0.75: 0.036973800151221925},\n",
            " 't+24': {0.25: 0.0,\n",
            "          0.5: 0.0283265559904656,\n",
            "          0.75: 0.16609762083679688},\n",
            " 't+3': {0.25: 0.0,\n",
            "         0.5: 0.0,\n",
            "         0.75: 0.3055851537964809},\n",
            " 't+4': {0.25: 0.0,\n",
            "         0.5: 0.17172993909634118,\n",
            "         0.75: 0.2860136676597882},\n",
            " 't+5': {0.25: 0.0,\n",
            "         0.5: 0.1548465601977102,\n",
            "         0.75: 0.2866569869954154},\n",
            " 't+6': {0.25: 0.0,\n",
            "         0.5: 0.17423227166540553,\n",
            "         0.75: 0.29073302461564926},\n",
            " 't+7': {0.25: 0.0,\n",
            "         0.5: 0.19732665450686449,\n",
            "         0.75: 0.31394894609097157},\n",
            " 't+8': {0.25: 0.0,\n",
            "         0.5: 0.24804698798826405,\n",
            "         0.75: 0.3612874794774302},\n",
            " 't+9': {0.25: 0.19919373902286858,\n",
            "         0.5: 0.29920439346800226,\n",
            "         0.75: 0.41005181567997}}\n"
          ],
          "name": "stdout"
        }
      ]
    },
    {
      "cell_type": "code",
      "metadata": {
        "colab": {
          "base_uri": "https://localhost:8080/",
          "height": 493
        },
        "id": "o1hyrC17ChpT",
        "outputId": "b5041917-69ec-49b2-e28a-20f70b6ec385"
      },
      "source": [
        "\n",
        "fig, (ax1, ax2) = plt.subplots(1, 2, figsize=(15, 7))\n",
        "fig.suptitle('Results')\n",
        "\n",
        "ax1.plot(list(range(horizon_size)), cur_real_vals_tensor.numpy())\n",
        "for i, quantile in enumerate(quantiles):\n",
        "    ax1.plot(list(range(horizon_size)), [prediction[f't+{i + 1}'][quantile] for i in range(horizon_size)])\n",
        "ax1.legend(['Actual'] + [f'Q{int(q * 100)}' for q in quantiles])\n",
        "ax1.set_title(\"Forecast example\")\n",
        "ax1.set_xlabel(\"Horizon\")\n",
        "ax2.set_ylabel(\"Target value\")\n",
        "\n",
        "ax2.plot(list(range(num_epochs)), loss_per_epoch)\n",
        "ax2.set_title(\"Loss over training epochs\")\n",
        "ax2.set_xlabel('Epochs')\n",
        "ax2.set_ylabel('Mean loss')\n",
        "plt.show()\n"
      ],
      "execution_count": null,
      "outputs": [
        {
          "output_type": "display_data",
          "data": {
            "image/png": "[encoded data removed]",
            "text/plain": [
              "<Figure size 1080x504 with 2 Axes>"
            ]
          },
          "metadata": {
            "tags": [],
            "needs_background": "light"
          }
        }
      ]
    },
    {
      "cell_type": "markdown",
      "metadata": {
        "id": "VdTW2_IO9f5V"
      },
      "source": [
        "It looks like our quantile values are always nonzero although the real data can be negative due to the normalization. We didn't have time to deal with this issue, but it seems like the net is learning quite well for a prototype without tuning."
      ]
    },
    {
      "cell_type": "code",
      "metadata": {
        "id": "NywPzuXO8_aJ"
      },
      "source": [
        ""
      ],
      "execution_count": null,
      "outputs": []
    }
  ]
}